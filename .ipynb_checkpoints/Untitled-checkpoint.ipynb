{
 "cells": [
  {
   "cell_type": "code",
   "execution_count": 1,
   "id": "d65f2870-98d6-42b3-85e5-4f035c354327",
   "metadata": {},
   "outputs": [
    {
     "name": "stdout",
     "output_type": "stream",
     "text": [
      "hello world in codespace\n"
     ]
    }
   ],
   "source": [
    "print (\"hello world in codespace\")"
   ]
  },
  {
   "cell_type": "code",
   "execution_count": null,
   "id": "515f3b25-fdf6-49a2-8ff3-627141911fc6",
   "metadata": {},
   "outputs": [],
   "source": []
  }
 ],
 "metadata": {
  "kernelspec": {
   "display_name": "Python 3 (ipykernel)",
   "language": "python",
   "name": "python3"
  },
  "language_info": {
   "codemirror_mode": {
    "name": "ipython",
    "version": 3
   },
   "file_extension": ".py",
   "mimetype": "text/x-python",
   "name": "python",
   "nbconvert_exporter": "python",
   "pygments_lexer": "ipython3",
   "version": "3.10.13"
  }
 },
 "nbformat": 4,
 "nbformat_minor": 5
}
